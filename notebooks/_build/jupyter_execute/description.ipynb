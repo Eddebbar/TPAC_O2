{
 "cells": [
  {
   "cell_type": "markdown",
   "id": "132235c8-0790-49e4-bf44-d0fc4ace4e26",
   "metadata": {
    "tags": []
   },
   "source": [
    "# Description \n",
    "\n",
    "This book describes the workflow for project titled: \"the tropical Pacific Oxygen at the Mesoscale\"   \n",
    "\n",
    "This book is based off the [Jupyter Book](https://jupyterbook.org/en/stable/intro.html) template and uses  [papermill](https://papermill.readthedocs.io/en/latest/index.html) which enables parameterizing and executing notebooks.\n",
    "\n",
    "To run all notebooks, excecute [_run.ipynb](https://github.com/Eddebbar/TPAC_O2/blob/main/notebooks/_run.ipynb)."
   ]
  },
  {
   "cell_type": "markdown",
   "id": "8c37d5da-0e67-4729-8896-df274242c84c",
   "metadata": {},
   "source": [
    "# Model outputs are found in the following local directories"
   ]
  },
  {
   "cell_type": "markdown",
   "id": "72779c83-7845-4c69-93f5-8ff36a47c784",
   "metadata": {},
   "source": [
    "- CESM JRA55 0.1º daily runs: '/glade/campaign/cesm/development/bgcwg/projects/hi-res_JRA/cases/g.e22.G1850ECO_JRA_HR.TL319_t13.004/output/ocn/proc/tseries/day_1/' \n",
    "- CESM JRA55 0.1º monthly runs: '/glade/campaign/cesm/development/bgcwg/projects/hi-res_JRA/cases/g.e22.G1850ECO_JRA_HR.TL319_t13.004/output/ocn/proc/tseries/monthly_1/'     \n",
    "- CESM CORE 0.1º 5yr Runs:  '/glade/campaign/cesm/development/bgcwg/projects/hi-res_CESM1_CORE/g.e11.G.T62_t12.eco.006/ocn/hist/'\n",
    "- B-TPOSE: \n",
    "    - Mitgcm + BLING 2010-2018: http://www.ecco.ucsd.edu/DATA/TROPAC/bgc/\n",
    "    - TPOSE + BLING : http://www.ecco.ucsd.edu/DATA/TROPAC/tpose6_bgc/  \n",
    "    - TPOSE Physics only: http://www.ecco.ucsd.edu/DATA/TROPAC/tpose6/\n",
    "    - wget into '/glade/work/yeddebba/TPOSE/\n"
   ]
  }
 ],
 "metadata": {
  "kernelspec": {
   "display_name": "Python 3 (ipykernel)",
   "language": "python",
   "name": "tpac_o2"
  },
  "language_info": {
   "codemirror_mode": {
    "name": "ipython",
    "version": 3
   },
   "file_extension": ".py",
   "mimetype": "text/x-python",
   "name": "python",
   "nbconvert_exporter": "python",
   "pygments_lexer": "ipython3",
   "version": "3.7.12"
  }
 },
 "nbformat": 4,
 "nbformat_minor": 5
}